{
 "cells": [
  {
   "cell_type": "markdown",
   "metadata": {},
   "source": [
    "Note: And again, failed to use R outside of RStudio. After the 7th workaround, 3rd extension and an hour wasted trying to load R libraries I again stopped this task. That is one of the many (package chaos), many(syntax chaos), many (platform chaos), many (...) reasons why I prefer python for data science."
   ]
  },
  {
   "cell_type": "markdown",
   "metadata": {},
   "source": [
    "EDIT: did not take long to again face an issue with the R package manager, as the package for FSelector seems to be invalid for my platform...( .onLoad in loadNamespace() für 'rJava' fehlgeschlagen)"
   ]
  }
 ],
 "metadata": {
  "kernelspec": {
   "display_name": "R",
   "language": "R",
   "name": "ir"
  },
  "language_info": {
   "codemirror_mode": "r",
   "file_extension": ".r",
   "mimetype": "text/x-r-source",
   "name": "R",
   "pygments_lexer": "r",
   "version": "3.6.1"
  }
 },
 "nbformat": 4,
 "nbformat_minor": 2
}
